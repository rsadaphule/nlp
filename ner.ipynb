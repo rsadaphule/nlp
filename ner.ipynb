{
  "nbformat": 4,
  "nbformat_minor": 0,
  "metadata": {
    "colab": {
      "name": "Untitled0.ipynb",
      "version": "0.3.2",
      "provenance": [],
      "private_outputs": true,
      "include_colab_link": true
    },
    "kernelspec": {
      "name": "python3",
      "display_name": "Python 3"
    },
    "accelerator": "GPU"
  },
  "cells": [
    {
      "cell_type": "markdown",
      "metadata": {
        "id": "view-in-github",
        "colab_type": "text"
      },
      "source": [
        "<a href=\"https://colab.research.google.com/github/rsadaphule/nlp/blob/master/ner.ipynb\" target=\"_parent\"><img src=\"https://colab.research.google.com/assets/colab-badge.svg\" alt=\"Open In Colab\"/></a>"
      ]
    },
    {
      "cell_type": "code",
      "metadata": {
        "id": "BRJAjWGYo5ns",
        "colab_type": "code",
        "colab": {}
      },
      "source": [
        "## Set QUICK_RUN = True to run the notebook on a small subset of data and a smaller number of epochs.\n",
        "QUICK_RUN = T"
      ],
      "execution_count": 0,
      "outputs": []
    },
    {
      "cell_type": "code",
      "metadata": {
        "id": "GAd4fnGFvnoH",
        "colab_type": "code",
        "colab": {}
      },
      "source": [
        "!ssh-keygen -t rsa -C \"rsadaphule@github.com\""
      ],
      "execution_count": 0,
      "outputs": []
    },
    {
      "cell_type": "code",
      "metadata": {
        "id": "xfrhSHakygak",
        "colab_type": "code",
        "colab": {}
      },
      "source": [
        "ls -a ~/.ssh\n"
      ],
      "execution_count": 0,
      "outputs": []
    },
    {
      "cell_type": "code",
      "metadata": {
        "id": "tIZdGr-ky-wQ",
        "colab_type": "code",
        "colab": {}
      },
      "source": [
        "!cat ~/.ssh/id_rsa.pub"
      ],
      "execution_count": 0,
      "outputs": []
    },
    {
      "cell_type": "code",
      "metadata": {
        "id": "891UESk1pz2k",
        "colab_type": "code",
        "colab": {}
      },
      "source": [
        "\n",
        "#!ssh-keygen -t rsa -b 2048 -C \"rsadaphule@nlp\"\n",
        "!git clone git@github.com:rsadaphule/nlp.git"
      ],
      "execution_count": 0,
      "outputs": []
    },
    {
      "cell_type": "code",
      "metadata": {
        "id": "tsrbcQykvmgD",
        "colab_type": "code",
        "colab": {}
      },
      "source": [
        ""
      ],
      "execution_count": 0,
      "outputs": []
    },
    {
      "cell_type": "code",
      "metadata": {
        "id": "nXMlpiKVvkpc",
        "colab_type": "code",
        "colab": {}
      },
      "source": [
        ""
      ],
      "execution_count": 0,
      "outputs": []
    },
    {
      "cell_type": "code",
      "metadata": {
        "id": "nd_7HxqMpQI-",
        "colab_type": "code",
        "colab": {}
      },
      "source": [
        "!pip install scrapbook\n",
        "!pip install torch\n",
        "! pip install seqeval"
      ],
      "execution_count": 0,
      "outputs": []
    },
    {
      "cell_type": "code",
      "metadata": {
        "id": "bfnftuGApDhT",
        "colab_type": "code",
        "colab": {}
      },
      "source": [
        "import sys\n",
        "import os\n",
        "import random\n",
        "import scrapbook as sb\n",
        "from seqeval.metrics import classification_report\n",
        "\n",
        "import torch\n",
        "\n",
        "nlp_path = os.path.abspath('../../')\n",
        "if nlp_path not in sys.path:\n",
        "    sys.path.insert(0, nlp_path)\n",
        "\n",
        "from utils_nlp.models.bert.token_classification import BERTTokenClassifier, create_label_map, postprocess_token_labels\n",
        "from utils_nlp.models.bert.common import Language, Tokenizer\n",
        "from utils_nlp.dataset.wikigold import load_train_test_dfs, get_unique_labels\n",
        "from utils_nlp.common.timer import Timer"
      ],
      "execution_count": 0,
      "outputs": []
    },
    {
      "cell_type": "code",
      "metadata": {
        "id": "pIKU1OnEpOy4",
        "colab_type": "code",
        "colab": {}
      },
      "source": [
        ""
      ],
      "execution_count": 0,
      "outputs": []
    }
  ]
}